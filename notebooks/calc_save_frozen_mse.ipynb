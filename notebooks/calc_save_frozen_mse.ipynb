{
 "cells": [
  {
   "cell_type": "markdown",
   "id": "e571f9ec",
   "metadata": {
    "heading_collapsed": true
   },
   "source": [
    "## Import Necessary Packages"
   ]
  },
  {
   "cell_type": "code",
   "execution_count": 1,
   "id": "de851ffb-e3ac-4206-86d4-9566b7e675a7",
   "metadata": {
    "hidden": true
   },
   "outputs": [],
   "source": [
    "import os\n",
    "import glob\n",
    "import numpy as np\n",
    "import xarray as xr\n",
    "from datetime import datetime\n",
    "import warnings\n",
    "warnings.filterwarnings('ignore')"
   ]
  },
  {
   "cell_type": "markdown",
   "id": "f3bb668b",
   "metadata": {
    "heading_collapsed": true
   },
   "source": [
    "## User-Defined Fields"
   ]
  },
  {
   "cell_type": "code",
   "execution_count": 2,
   "id": "e9521857-89cd-41d2-b89a-3c9ce5b6b1fd",
   "metadata": {
    "hidden": true
   },
   "outputs": [],
   "source": [
    "author = # 'your name'\n",
    "email  = # 'your email'\n",
    "path   = # '/directory/where/large/or/small/domain/files/are/located/'\n",
    "simset = 'rcemip-large' # or 'rcemip-small'\n",
    "dirout = 'FMSE'\n",
    "cases  = ['nz_32','nz_64','nz_128','nz_256']\n",
    "today  = datetime.today().strftime('%Y-%m-%d')"
   ]
  },
  {
   "cell_type": "code",
   "execution_count": 3,
   "id": "ea271116",
   "metadata": {
    "hidden": true
   },
   "outputs": [],
   "source": [
    "path = path+simset\n",
    "if simset == 'rcemip-small':\n",
    "    outstr = '_99km_300K_'\n",
    "    nxny   = '_128_'\n",
    "else:\n",
    "    outstr = '_1536km_300K_'\n",
    "    nxny   = '_512_'\n",
    "    cases = cases[:2]"
   ]
  },
  {
   "cell_type": "markdown",
   "id": "66b99676",
   "metadata": {
    "heading_collapsed": true
   },
   "source": [
    "## Calculate and Save Frozen Moist Static Energy"
   ]
  },
  {
   "cell_type": "markdown",
   "id": "25c044dd-78b1-4e37-81d1-817e0708683f",
   "metadata": {
    "hidden": true
   },
   "source": [
    "In SAM's simple single moment microphysics scheme, there is a simple temperature-dependent partitioning between liquid and ice (Khairoutdinov & Randall 2003). The partition functions $\\omega_m$ depend on temperature alone, where $T_{0n} = 285 T_{0p} = 283.16 T_{0g} = 283.16 T_{00n} = 253.16 T_{00p} = 268.16 T_{00g} = 223.16$: \n",
    "\n",
    "$$\\omega_m = \\textrm{max}[0,\\textrm{min}(1,\\frac{T-T_{00m}}{T_{0m}-T_{00m}})]$$\n",
    "\n",
    "\n",
    "Using the above equation, calculate the non-precipitating (cloud) ice mixing ratio as $q_i = (1-\\omega_n) q_n$, and precipitating ice mixing ratio as $q_{pi} = (1-\\omega_p) q_p$. Calculate frozen moist static energy $h_f$ and its mass-weighted vertical integral $\\langle h_f \\rangle$ following:\n",
    "$$h_f = c_pT + gz + L_vq_v - L_f(q_i+q_{pi})$$\n",
    "$$\\langle h_f \\rangle = \\frac{1}{g} \\int_{p_{bottom}}^{p_{top}} (h_f) dp$$\n",
    "\n",
    "Store $h_f$ and $\\langle h_f \\rangle$ together in Xarray.Datasets by case, and save as netCDF files to ```dirout```."
   ]
  },
  {
   "cell_type": "code",
   "execution_count": 4,
   "id": "4bcf4699",
   "metadata": {
    "hidden": true
   },
   "outputs": [],
   "source": [
    "T_0n  = 285\n",
    "T_0p  = 283.16\n",
    "T_00n = 253.16\n",
    "T_00p = 268.16\n",
    "cp = 1006\n",
    "g  = 9.81\n",
    "Lv = 2.5e6\n",
    "Lf = 3.34e5"
   ]
  },
  {
   "cell_type": "code",
   "execution_count": 5,
   "id": "22225561-63b5-461e-af51-ceadb89e955f",
   "metadata": {
    "hidden": true
   },
   "outputs": [],
   "source": [
    "for i,case in enumerate(cases):\n",
    "    ## Check to See if Directory Already Exists\n",
    "    try: os.mkdir(path+case+'/OUT_3D/'+dirout)\n",
    "    except: print('Error: directory already exists')\n",
    "    print('Working on '+case+'...')\n",
    "    ## List Files\n",
    "    pfile   = glob.glob(path+case+'/OUT_3D/p/*.nc')[0]\n",
    "    tafiles = np.sort(glob.glob(path+case+'/OUT_3D/TABS/*.nc'))\n",
    "    qnfiles = np.sort(glob.glob(path+case+'/OUT_3D/QN/*.nc'))\n",
    "    qpfiles = np.sort(glob.glob(path+case+'/OUT_3D/QP/*.nc'))\n",
    "    qvfiles = np.sort(glob.glob(path+case+'/OUT_3D/QV/*.nc'))\n",
    "    ppfiles = np.sort(glob.glob(path+case+'/OUT_3D/PP/*.nc'))\n",
    "    for j in range(len(tafiles)):\n",
    "        ## Check to See if File Exists\n",
    "        timestr = tafiles[j][-13:-3]\n",
    "        print(str(i)+'/'+str(len(tafiles)))\n",
    "        filename = (path+case+'/OUT_3D/'+dirout+'/RCE_'+simset+outstr+case+nxny+dirout+'_'+timestr+'.nc')\n",
    "        if os.path.exists(filename): \n",
    "                print('Error: file already exists and will be skipped')\n",
    "                continue\n",
    "        ## Define Variables\n",
    "        p_background = xr.open_dataset(pfile).p*100 # from hPa to Pa\n",
    "        p  = xr.open_dataset(ppfiles[j]).PP + p_background\n",
    "        ta = xr.open_dataset(tafiles[j]).TABS\n",
    "        qn = xr.open_dataset(qnfiles[j]).QN\n",
    "        qp = xr.open_dataset(qpfiles[j]).QP\n",
    "        qv = xr.open_dataset(qvfiles[j]).QV\n",
    "        ## Calculate Precipitating Ice Mixing Ratio\n",
    "        omega_n = xr.ufuncs.maximum(0,xr.ufuncs.minimum(1,(ta-T_00n)/(T_0n-T_00n)))\n",
    "        qi = (1-omega_n)*qn/1000 # from g/kg to kg/kg \n",
    "        del omega_n\n",
    "        del qn\n",
    "        ## Calculate Precipitating Ice Mixing Ratio\n",
    "        omega_p = xr.ufuncs.maximum(0,xr.ufuncs.minimum(1,(ta-T_00p)/(T_0p-T_00p)))\n",
    "        qpi = (1-omega_p)*qp/1000 # from g/kg to kg/kg \n",
    "        del omega_p\n",
    "        del qp\n",
    "        ## Calculate FMSE\n",
    "        hf = ((cp*ta)+(g*ta.z)+(Lv*(qv/1000))-(Lf*(qi+qpi))) # from g/kg to kg/kg\n",
    "        hf.attrs['long_name'] = 'Frozen moist static energy'\n",
    "        hf.attrs['units'] = '$J kg^{-1}$'\n",
    "        hf.attrs['description'] = '$c_pT + gz + L_vq_v - L_fq_i$'\n",
    "        del ta\n",
    "        del qv\n",
    "        del qi\n",
    "        del qpi\n",
    "        ## Calculate Column FMSE\n",
    "        dp = xr.ufuncs.fabs(p.diff(dim='z'))\n",
    "        hf_vint = (1/g)*(h_i[:,:-1,:,:]*dp).sum(dim='z')\n",
    "        hf_vint.attrs['long_name'] = 'Mass-weighted vertically-integrated frozen moist static energy'\n",
    "        hf_vint.attrs['units'] = 'J m$^{-2}$'\n",
    "        hf_vint.attrs['description'] = 'Mass weighting calculated as sum($h_fdp$)/$g$'\n",
    "        ## Create Dataset and Save as a NetCDF File\n",
    "        print('Creating and saving dataset to: '+filename)\n",
    "        ds = xr.Dataset(data_vars=dict(fmse=hf,fmse_vint=hf_vint),\n",
    "                        attrs=dict(history='Calculated on '+today+' by '+author+': '+email))\n",
    "        ds.to_netcdf(filename)\n",
    "        del p\n",
    "        del hf\n",
    "        del hf_vint\n",
    "        del ds"
   ]
  }
 ],
 "metadata": {
  "kernelspec": {
   "display_name": "conv-agg",
   "language": "python",
   "name": "conv-agg"
  },
  "language_info": {
   "codemirror_mode": {
    "name": "ipython",
    "version": 3
   },
   "file_extension": ".py",
   "mimetype": "text/x-python",
   "name": "python",
   "nbconvert_exporter": "python",
   "pygments_lexer": "ipython3",
   "version": "3.9.12"
  }
 },
 "nbformat": 4,
 "nbformat_minor": 5
}
