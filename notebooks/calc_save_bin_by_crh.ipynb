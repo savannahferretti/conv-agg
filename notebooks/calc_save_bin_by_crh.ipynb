{
 "cells": [
  {
   "cell_type": "markdown",
   "id": "d1674cc5",
   "metadata": {
    "heading_collapsed": true
   },
   "source": [
    "## Import Necessary Packages"
   ]
  },
  {
   "cell_type": "code",
   "execution_count": 1,
   "id": "55f04339",
   "metadata": {
    "hidden": true
   },
   "outputs": [],
   "source": [
    "import glob\n",
    "import numpy as np\n",
    "import xarray as xr\n",
    "from datetime import datetime\n",
    "import warnings\n",
    "warnings.filterwarnings('ignore')"
   ]
  },
  {
   "cell_type": "markdown",
   "id": "d7b0e4fa",
   "metadata": {
    "heading_collapsed": true
   },
   "source": [
    "## User-Defined Fields"
   ]
  },
  {
   "cell_type": "code",
   "execution_count": 2,
   "id": "b229e570",
   "metadata": {
    "hidden": true
   },
   "outputs": [],
   "source": [
    "author = # 'your name'\n",
    "email  = # 'your email'\n",
    "path   = # '/directory/where/large/domain/files/are/located/'\n",
    "dirout = 'analysis'\n",
    "cases  = ['nz_32','nz_64','nz_128']\n",
    "today  = datetime.today().strftime('%Y-%m-%d')\n",
    "timeframes = [[0,25],[25,50],[100,125]]\n",
    "nzlist = [32,64,128]"
   ]
  },
  {
   "cell_type": "markdown",
   "id": "532d5f84",
   "metadata": {
    "heading_collapsed": true
   },
   "source": [
    "## Calculate and Save Variables Binned by Column $RH$"
   ]
  },
  {
   "cell_type": "markdown",
   "id": "98bfd9af",
   "metadata": {
    "hidden": true
   },
   "source": [
    "Define a function that bins variables by column relative humidity."
   ]
  },
  {
   "cell_type": "code",
   "execution_count": 3,
   "id": "4bf40544",
   "metadata": {
    "hidden": true
   },
   "outputs": [],
   "source": [
    "def binbycolrh(colrh,variable,percentiles): \n",
    "    # Initialize data by RH\n",
    "    databyrh = np.nan*np.ones((len(percentiles)-1,len(variable.z)))\n",
    "    for i in range(len(percentiles)-1):\n",
    "        low  = percentiles[i]\n",
    "        high = percentiles[i+1]\n",
    "        if high==100: high+=0.1\n",
    "        # Conditionally average based on column RH\n",
    "        condvar = xr.where((colrh>=low)&(colrh<high),variable,np.nan)     \n",
    "        # Save conditionally-averaged variable\n",
    "        databyrh[i,:] = condvar.mean(dim=('x','y','time')).values  \n",
    "    return databyrh"
   ]
  },
  {
   "cell_type": "markdown",
   "id": "a3f515c9",
   "metadata": {
    "hidden": true
   },
   "source": [
    "Bin column relative humidity, radiative heating $Q_r$, cloud condensate mixing ratio $q_n$, and frozen moist static energy $h_f$. Bin vertical velocity and density to calculate mass streamfunction $\\psi$. Save binned variables together in Xarray.DataArrays, combine into Xarray.Datasets for each timeframe, and save as netCDF files to ```dirout```."
   ]
  },
  {
   "cell_type": "code",
   "execution_count": 4,
   "id": "065e0c88",
   "metadata": {
    "hidden": true
   },
   "outputs": [],
   "source": [
    "dbin = 1\n",
    "binedges  = np.arange(0,100+dbin,dbin)\n",
    "bincenter = binedges[0:-1]+dbin/2\n",
    "nbins = len(bincenter)"
   ]
  },
  {
   "cell_type": "code",
   "execution_count": 5,
   "id": "b54055ba-afd0-4d95-84bf-5fa0af38d714",
   "metadata": {
    "hidden": true
   },
   "outputs": [],
   "source": [
    "for i,case in enumerate(cases):\n",
    "    print('Working on '+case+'...')\n",
    "    # List files\n",
    "    crhfiles = np.sort(glob.glob(path+case+'/OUT_3D/PW/*.nc'))\n",
    "    qrfiles  = np.sort(glob.glob(path+case+'/OUT_3D/QRAD/*.nc'))\n",
    "    qnfiles  = np.sort(glob.glob(path+case+'/OUT_3D/QN/*.nc'))\n",
    "    hffiles  = np.sort(glob.glob(path+case+'/OUT_3D/FMSE/*.nc'))\n",
    "    wfiles   = np.sort(glob.glob(path+case+'/OUT_3D/W/*.nc'))\n",
    "    rhofile  = glob.glob(path+'/OUT_STAT/*.nc')[0]\n",
    "    # Set sizes of arrays\n",
    "    arraysize = (len(timeframes),nbins,nzlist[i])\n",
    "    crhpercentiles = np.nan*np.ones((len(timeframes),len(binedges)))\n",
    "    qr  = np.nan*np.ones(arraysize)\n",
    "    qn  = np.nan*np.ones(arraysize)\n",
    "    hf  = np.nan*np.ones(arraysize)\n",
    "    psi = np.nan*np.ones(arraysize)\n",
    "    w   = np.nan*np.ones(arraysize)\n",
    "    for j,[start,stop] in enumerate(timeframes):\n",
    "        print('Working on days '+str(start)+'-'+str(stop)+'...')\n",
    "        # Bin column RH\n",
    "        crh = xr.open_mfdataset(crhfiles).sel(time=slice(start,stop)).crh\n",
    "        crhpercentiles[j,:] = np.percentile(crh,binedges)\n",
    "        # Bin radiative heating\n",
    "        qrdata = xr.open_mfdataset(qrfiles).sel(time=slice(start,stop)).QRAD\n",
    "        qr[j,:,:] = binbycolrh(crh,qrdata,crhpercentiles[j])\n",
    "        if j==0: z=qrdata.z\n",
    "        del qrdata\n",
    "        # Bin cloud condensate mixing ration\n",
    "        qndata = xr.open_mfdataset(qnfiles).sel(time=slice(start,stop)).QN\n",
    "        qn[j,:,:] = binbycolrh(crh,qndata,crhpercentiles[j])\n",
    "        del qndata\n",
    "        # Bin FMSE\n",
    "        hfdata = xr.open_mfdataset(hffiles).sel(time=slice(start,stop)).fmse\n",
    "        hf[j,:,:] = binbycolrh(crh,hfdata,crhpercentiles[j])\n",
    "        del hfdata\n",
    "        # Bin vertical velocity\n",
    "        wdata = xr.open_mfdataset(wfiles).sel(time=slice(start,stop)).W\n",
    "        wbycrh = binbycolrh(crh,wdata,crhpercentiles[j])\n",
    "        w[j,:,:] = wbycrh\n",
    "        del wdata\n",
    "        # Calculate and bin mass streamfunction\n",
    "        print('Calculating streamfunction')\n",
    "        rhodata = xr.open_dataset(rhofile).sel(time=slice(start,stop)).RHO.mean('time')\n",
    "        for k in range(nbins):\n",
    "            if k==0: psi[j,k,:]=0\n",
    "            else: psi[j,k,:]=psi[j,k-1,:]+(rhodata*wbycrh[k,:]*(1/nbins))\n",
    "        del rhodata\n",
    "    # Save output based on timeframe\n",
    "    timeframestr = []\n",
    "    for [start,stop] in timeframes:\n",
    "        timeframestr.append(str(start)+'-'+str(stop))\n",
    "    # Establish coordinates for data arrays\n",
    "    da_percentileedges = xr.DataArray(data=binedges,name='percentile_edge',attrs=dict(long_name='Percentile edge'))\n",
    "    da_percentilecenters = xr.DataArray(data=bincenter,name='percentile_center',attrs=dict(long_name='Percentile center'))\n",
    "    da_timeframes = xr.DataArray(data=timeframestr,name='timeframe',attrs=dict(long_name='Time period',units='days'))\n",
    "    # Create data arrays for each variable\n",
    "    da_crhpercentiles = xr.DataArray(data=crhpercentiles,dims=('timeframe','percentile_edge'),coords=(\n",
    "        da_timeframes,da_percentileedges),attrs=dict(long_name='Column relative humidity percentile'))\n",
    "    da_w = xr.DataArray(data=w,dims=('timeframe','percentile_center','z'),coords=(\n",
    "        da_timeframes,da_percentilecenters,z),attrs=dict(long_name='Vertical velocity',units='$m s^{-1}$',\n",
    "        description='Binned by column relative humidity percentile'))\n",
    "    da_qr = xr.DataArray(data=qr,dims=('timeframe','percentile_center','z'),coords=(\n",
    "        da_timeframes,da_percentilecenters,z),attrs=dict(\n",
    "        long_name='Radiative heating rate',units='$K day^{-1}$',\n",
    "        description='Binned by column relative humidity percentile'))\n",
    "    da_qn = xr.DataArray(data=qn,dims=('timeframe','percentile_center','z'),coords=(\n",
    "        da_timeframes,da_percentilecenters,z),attrs=dict(\n",
    "        long_name='Non-precipitating condensate mixing ratio',units='$g kg^{-1}$',\n",
    "        description='Binned by column relative humidity percentile'))\n",
    "    da_hf = xr.DataArray(data=hf,dims=('timeframe','percentile_center','z'),\n",
    "        coords=(da_timeframes,da_percentilecenters,z),attrs=dict(\n",
    "        long_name='Frozen moist static energy',units='J kg^{-1}$',\n",
    "        description='Binned by column relative humidity percentile'))\n",
    "    da_psi = xr.DataArray(data=psi,dims=('timeframe','percentile_center','z'),coords=(\n",
    "        da_timeframes,da_percentilecenters,z),attrs=dict(\n",
    "        long_name='Mass streamfunction',units='$kg m^{-2} s^{-1}$',\n",
    "        description='Calculated from vertical velocity binned by column relative humidity percentile'))\n",
    "    # Create and save dataset\n",
    "    filename = path+dirout+'/crh_binned_vars_'+case+'_figure_timeframes.nc'\n",
    "    print('Creating and saving dataset to: '+filename)\n",
    "    ds = xr.Dataset(data_vars=dict(w=da_w,crh_percentile=da_crhpercentiles,Qr=da_qr,qn=da_qn,FMSE=da_hf,psi=da_psi),\n",
    "                    attrs=dict(history='Calculated on '+today+' by '+author+': '+email,case=case))\n",
    "    ds.to_netcdf(filename)\n",
    "    del w,qr,qn,hf,psi,ds",
   ]
  }
 ],
 "metadata": {
  "kernelspec": {
   "display_name": "conv-agg",
   "language": "python",
   "name": "conv-agg"
  },
  "language_info": {
   "codemirror_mode": {
    "name": "ipython",
    "version": 3
   },
   "file_extension": ".py",
   "mimetype": "text/x-python",
   "name": "python",
   "nbconvert_exporter": "python",
   "pygments_lexer": "ipython3",
   "version": "3.9.12"
  }
 },
 "nbformat": 4,
 "nbformat_minor": 5
}
