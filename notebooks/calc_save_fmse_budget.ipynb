{
 "cells": [
  {
   "cell_type": "markdown",
   "id": "0529c3c0",
   "metadata": {
    "heading_collapsed": true
   },
   "source": [
    "## Import Necessary Packages"
   ]
  },
  {
   "cell_type": "code",
   "execution_count": 1,
   "id": "bf7b123b",
   "metadata": {
    "hidden": true
   },
   "outputs": [],
   "source": [
    "import glob\n",
    "import numpy as np\n",
    "import xarray as xr\n",
    "from datetime import datetime\n",
    "import warnings\n",
    "warnings.filterwarnings('ignore')"
   ]
  },
  {
   "cell_type": "markdown",
   "id": "98755d5a",
   "metadata": {
    "heading_collapsed": true
   },
   "source": [
    "## User-Defined Fields"
   ]
  },
  {
   "cell_type": "code",
   "execution_count": 2,
   "id": "bc6ed0db",
   "metadata": {
    "hidden": true
   },
   "outputs": [],
   "source": [
    "author = # 'your name'\n",
    "email  = # 'your email'\n",
    "path   = # '/directory/where/large/domain/files/are/located/'\n",
    "dirout = 'analysis'\n",
    "cases  = ['nz_32','nz_64','nz_128']\n",
    "today  = datetime.today().strftime('%Y-%m-%d')"
   ]
  },
  {
   "cell_type": "markdown",
   "id": "3414b070",
   "metadata": {
    "heading_collapsed": true
   },
   "source": [
    "## Calculate and Save Eq. 3 Terms"
   ]
  },
  {
   "cell_type": "markdown",
   "id": "5579e697",
   "metadata": {
    "hidden": true
   },
   "source": [
    "Calculate daily-averaged longwave convergence as $LW$, shortwave convergence $SW$, surface enthalpy flux $SEF$, and mass-weighted vertically-integrated frozen moist static energy $\\langle h_f \\rangle$. Calculate spatial anomalies of each term as the deviation from the horisontal domain-mean. \n",
    "\n",
    "Following Wing and Emanuel (2014), the budget equation for the spatial variance of $\\langle h_f \\rangle$ (Eq. 3) is:\n",
    "\n",
    "$$\\frac{1}{2}\\frac{\\partial \\langle h_f \\rangle'^2}{\\partial t} = \\langle h_f \\rangle' LW' + \\langle h_f \\rangle' SW' + \\langle h_f \\rangle' SEF' - \\langle h_f \\rangle' \\left(\\nabla_h \\cdot \\langle h_f\\vec{\\textbf{u}} \\rangle' \\right)$$\n",
    "\n",
    "All budget terms (i.e., ```totaltend```, ```lwterm```, ```swterm```, ```sefterm```, ```fluxconv```) are calculated and saved as Xarray.DataArrays, combined into Xarray.Datasets for each case, and then saved as netCDF files to ```dirout```."
   ]
  },
  {
   "cell_type": "code",
   "execution_count": 3,
   "id": "f5235357",
   "metadata": {
    "hidden": true
   },
   "outputs": [],
   "source": [
    "for i,case in enumerate(cases):\n",
    "    print('Working on '+case+'...')\n",
    "    # List files\n",
    "    hffiles   = np.sort(glob.glob(path+case+'/OUT_3D/FMSE/*.nc'))\n",
    "    lwntfiles = np.sort(glob.glob(path+case+'/OUT_2D/LWNT/*.nc'))\n",
    "    lwnsfiles = np.sort(glob.glob(path+case+'/OUT_2D/LWNS/*.nc'))\n",
    "    swntfiles = np.sort(glob.glob(path+case+'/OUT_2D/SWNT/*.nc'))\n",
    "    swnsfiles = np.sort(glob.glob(path+case+'/OUT_2D/SWNS/*.nc'))\n",
    "    shffiles  = np.sort(glob.glob(path+case+'/OUT_2D/SHF/*.nc'))\n",
    "    lhffiles  = np.sort(glob.glob(path+case+'/OUT_2D/LHF/*.nc'))\n",
    "    # Calculate FMSE tendency term\n",
    "    hf = xr.open_mfdataset(hffiles).fmse_vint\n",
    "    hfdaily = hf.groupby(np.floor(hf.time)).mean('time').load()\n",
    "    hfanom  = hfdaily-(hfdaily.mean(dim=('x','y')))\n",
    "    totaltend = (((1/2)*((hfanom**2).differentiate('time'))).mean(dim=('x','y')))/86400/1e9\n",
    "    del hf,hfdaily\n",
    "    # Calculate LW term\n",
    "    lwns = xr.open_mfdataset(lwnsfiles).LWNS\n",
    "    lwnt = xr.open_mfdataset(lwntfiles).LWNT\n",
    "    lw   = lwns - lwnt\n",
    "    lwdaily = lw.groupby(np.floor(lw.time)).mean('time').load()\n",
    "    lwanom  = lwdaily-(lwdaily.mean(dim=('x','y')))\n",
    "    lwterm  = (lwanom*hfanom).mean(dim=('x','y'))/1e9\n",
    "    del lwns,lwnt,lw,lwdaily,lwanom\n",
    "    # Calculate SW term\n",
    "    swnt = xr.open_mfdataset(swntfiles).SWNT\n",
    "    swns = xr.open_mfdataset(swnsfiles).SWNS\n",
    "    sw   = swnt - swns\n",
    "    swdaily = sw.groupby(np.floor(sw.time)).mean('time').load()\n",
    "    swanom  = swdaily-(swdaily.mean(dim=('x','y')))\n",
    "    swterm  = (swanom*hfanom).mean(dim=('x','y'))/1e9\n",
    "    del swnt,swns,sw,swdaily,swanom\n",
    "    # Calculate SEF term\n",
    "    lhf = xr.open_mfdataset(lhffiles).LHF\n",
    "    shf = xr.open_mfdataset(shffiles).SHF\n",
    "    sef = lhf + shf \n",
    "    sefdaily = sef.groupby(np.floor(sef.time)).mean('time').load()\n",
    "    sefanom  = sefdaily-(sefdaily.mean(dim=('x','y')))\n",
    "    sefterm  = (sefanom*hfanom).mean(dim=('x','y'))/1e9\n",
    "    del lhf,shf,sef,sefdaily,sefanom\n",
    "    # Calculate residual FMSE flux convergence term\n",
    "    fluxconv = totaltend-lwterm-swterm-sefterm\n",
    "    del hfanom\n",
    "    # Create data arrays for each variable\n",
    "    da_lw = xr.DataArray(data=lwterm,dims=('time'),attrs=dict(\n",
    "        long_name='Longwave term',units='$10^{9} J^{2} m^{-4} s^{-1}$',\n",
    "        description='LW is the net atmospheric vertical convergence of LW radiation'))\n",
    "    da_sw = xr.DataArray(data=swterm,dims=('time'),attrs=dict(\n",
    "        long_name='Shortwave term',units='$10^{9} J^{2} m^{-4} s^{-1}$',\n",
    "        description='SW is the net atmospheric vertical convergence of SW radiation'))\n",
    "    da_sef = xr.DataArray(data=sefterm,dims=('time'),attrs=dict(\n",
    "        long_name='Surface enthalpy flux term',units='$10^{9} J^{2} m^{-4} s^{-1}$',\n",
    "        description='SEF is the sum of latent and sensible heat fluxes into the atmosphere'))\n",
    "    da_fluxconv = xr.DataArray(data=fluxconv,dims=('time'),attrs=dict(\n",
    "        long_name='Flux convergence term',units='$10^{9} J^{2} m^{-4} s^{-1}$',\n",
    "        description='The horizontal divergence of column-integrated FMSE flux'))\n",
    "    da_totaltend = xr.DataArray(data=totaltend,dims=('time'),attrs=dict(\n",
    "        long_name='Total tendency term',units='$10^{9} J^{2} m^{-4} s^{-1}$',\n",
    "        description='Total tendency of column-integrated frozen moist static energy'))\n",
    "    # Create and save dataset\n",
    "    filename = path+dirout+'/eq3_fmse_budget_vars_'+case+'.nc'\n",
    "    print('Creating and saving datset to: '+filename)\n",
    "    ds = xr.Dataset(data_vars=dict(LW=da_lw,SW=da_sw,SEF=da_sef,flux_conv=da_fluxconv,total_tend=da_totaltend),\n",
    "                    attrs=dict(history='Calculated on '+today+' by '+author+': '+email,case=case))\n",
    "    ds.to_netcdf(filename)\n",
    "    del lwterm,swterm,sefterm,fluxconv,totaltend,ds\n",
   ]
  }
 ],
 "metadata": {
  "kernelspec": {
   "display_name": "conv-agg",
   "language": "python",
   "name": "conv-agg"
  },
  "language_info": {
   "codemirror_mode": {
    "name": "ipython",
    "version": 3
   },
   "file_extension": ".py",
   "mimetype": "text/x-python",
   "name": "python",
   "nbconvert_exporter": "python",
   "pygments_lexer": "ipython3",
   "version": "3.9.12"
  }
 },
 "nbformat": 4,
 "nbformat_minor": 5
}
