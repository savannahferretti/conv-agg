{
 "cells": [
  {
   "cell_type": "markdown",
   "id": "5e93dfc9",
   "metadata": {
    "heading_collapsed": true
   },
   "source": [
    "## Import Necessary Packages"
   ]
  },
  {
   "cell_type": "code",
   "execution_count": 1,
   "id": "17006643-c04b-4547-8767-5b479b986f07",
   "metadata": {
    "hidden": true
   },
   "outputs": [],
   "source": [
    "import glob\n",
    "import numpy as np\n",
    "import xarray as xr\n",
    "import proplot as pplt\n",
    "pplt.rc.update({'font.size':12})\n",
    "import warnings\n",
    "warnings.filterwarnings('ignore')"
   ]
  },
  {
   "cell_type": "markdown",
   "id": "d1948d58",
   "metadata": {
    "heading_collapsed": true
   },
   "source": [
    "## User-Defined Fields"
   ]
  },
  {
   "cell_type": "code",
   "execution_count": 2,
   "id": "97955e18-a71b-4783-b184-7dabcd1d3171",
   "metadata": {
    "hidden": true
   },
   "outputs": [],
   "source": [
    "path  = # '/directory/where/large/domain/analysis/files/are/located/'\n",
    "cases = ['nz_32','nz_64','nz_128']"
   ]
  },
  {
   "cell_type": "markdown",
   "id": "5de74888",
   "metadata": {
    "heading_collapsed": true
   },
   "source": [
    "## Import Binned Data"
   ]
  },
  {
   "cell_type": "markdown",
   "id": "164d22ae",
   "metadata": {
    "hidden": true
   },
   "source": [
    "Load in data binned by column relative humidity. Files are added to ```dslist``` manually due to weird timeframe dimension and that fact that there are multiple files for nz_128."
   ]
  },
  {
   "cell_type": "code",
   "execution_count": 3,
   "id": "fd892301",
   "metadata": {
    "hidden": true
   },
   "outputs": [],
   "source": [
    "dslist = []\n",
    "for case in cases:\n",
    "    dslist.append(xr.open_dataset(glob.glob(path+'crh_binned_vars_nz_'+case+'_figure_timeframes.nc')[0],\n",
    "                                  decode_cf=False))"
   ]
  },
  {
   "cell_type": "markdown",
   "id": "7b4b3758",
   "metadata": {
    "hidden": true
   },
   "source": [
    "Read in ```timeframes``` and ```bincenter```, and reformat timeframe strings so it has leading zeros."
   ]
  },
  {
   "cell_type": "code",
   "execution_count": 4,
   "id": "1e18642b-6d95-4e51-a15a-776b65900120",
   "metadata": {
    "hidden": true
   },
   "outputs": [],
   "source": [
    "timeframes = dslist[0].timeframe.values\n",
    "bincenter  = dslist[0].percentile_center.values\n",
    "for i,timeframe in enumerate(timeframes):\n",
    "    # Find index of the dash\n",
    "    dash  = timeframe.index('-')\n",
    "    start = int(timeframe[:dash])\n",
    "    stop  = int(timeframe[dash+1:])\n",
    "    timeframes[i] = '{:03d}'.format(start)+'-{:03d}'.format(stop)    "
   ]
  },
  {
   "cell_type": "markdown",
   "id": "34d75a2e",
   "metadata": {},
   "source": [
    "## Plot Fig. 7"
   ]
  },
  {
   "cell_type": "code",
   "execution_count": 5,
   "id": "7508b1ef-7377-4683-bcf9-904cffb04449",
   "metadata": {},
   "outputs": [],
   "source": [
    "top='RdBu_r'; bottom='Cubehelix'; linewidth=0.8; qnlevels=[0.003,0.006,0.009,0.012]\n",
    "dpsi=0.0010; psilevels=np.arange(-0.0110,0.0110+dpsi,dpsi)\n",
    "fig,axs = pplt.subplots(ncols=3,nrows=2,refwidth=2,refheight=3)\n",
    "for i,timeframe in enumerate(timeframes):\n",
    "    axs.format(xlabel='Column relative humidity percentile',xlim=(0,100),xticks=25,ylabel='z (km)',ylim=(0,13),\n",
    "               abc='a',abcloc='l',suptitle='Days '+timeframe)\n",
    "    for j,case in enumerate(cases):\n",
    "        # Plot radiative heating\n",
    "        a = axs[j].contourf(bincenter,dslist[j].z/1000,np.transpose(dslist[j].qr.isel(timeframe=i).values),\n",
    "                               cmap=top,levels=20,vmin=-1.5,vmax=1.5,extend='both')\n",
    "        axs[j].contour(bincenter,dslist[j].z/1000,np.transpose(dslist[j].psi.isel(timeframe=i).values),\n",
    "                       color='k',linewidth=linewidth,levels=psilevels)\n",
    "        axs[j].contour(bincenter,dslist[j].z/1000,np.transpose(dslist[j].qn.isel(timeframe=i).values),\n",
    "                       color='w',linewidth=linewidth,levels=qnlevels)\n",
    "        axs[j].format(titleloc='l',title=case+', $Q_{R}$') \n",
    "        # Plot FMSE\n",
    "        b = axs[j+3].contourf(bincenter,dslist[j].z/1000,np.transpose(dslist[j].fmse.isel(timeframe=i).values)/1000,\n",
    "                                 cmap=bottom,levels=21,vmin=315,vmax=335,extend='both')\n",
    "        axs[j+3].contour(bincenter,dslist[j].z/1000,np.transpose(dslist[j].psi.isel(timeframe=i).values),\n",
    "                         color='k',linewidth=linewidth,levels=psilevels)\n",
    "        axs[j+3].contour(bincenter,dslist[j].z/1000,np.transpose(dslist[j].qn.isel(timeframe=i).values),\n",
    "                         color='w',linewidth=linewidth,levels=qnlevels)\n",
    "        axs[j+3].format(titleloc='l',title=case+ r', $\\langle h_{\\mathrm{f}} \\rangle$')\n",
    "    axs[2].colorbar(a,loc='r',label='Radiative heating rate (K day$^{-1}$)')\n",
    "    axs[5].colorbar(b,loc='r',label='Frozen moist static energy (kJ m$^{-2}$)')"
   ]
  }
 ],
 "metadata": {
  "kernelspec": {
   "display_name": "conv-agg",
   "language": "python",
   "name": "conv-agg"
  },
  "language_info": {
   "codemirror_mode": {
    "name": "ipython",
    "version": 3
   },
   "file_extension": ".py",
   "mimetype": "text/x-python",
   "name": "python",
   "nbconvert_exporter": "python",
   "pygments_lexer": "ipython3",
   "version": "3.9.12"
  }
 },
 "nbformat": 4,
 "nbformat_minor": 5
}
